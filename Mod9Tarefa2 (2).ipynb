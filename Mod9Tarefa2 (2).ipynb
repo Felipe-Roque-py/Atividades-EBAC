{
 "cells": [
  {
   "cell_type": "markdown",
   "metadata": {
    "id": "eYvCczy6lTt7"
   },
   "source": [
    "# Livro para consulta:\n",
    "- https://jakevdp.github.io/PythonDataScienceHandbook/03.08-aggregation-and-grouping.html\n",
    "- https://jakevdp.github.io/PythonDataScienceHandbook/03.09-pivot-tables.html\n",
    "    "
   ]
  },
  {
   "cell_type": "markdown",
   "metadata": {
    "id": "oeWprAfnlTt-"
   },
   "source": [
    "# 1. Importando bibliotecas <a name=\"import\"></a>\n",
    "\n",
    "<div style=\"text-align: right\"\n",
    "     \n",
    "[Voltar ao índice](#Contents)"
   ]
  },
  {
   "cell_type": "code",
   "execution_count": 164,
   "metadata": {
    "ExecuteTime": {
     "end_time": "2021-06-06T21:12:37.298706Z",
     "start_time": "2021-06-06T21:12:36.656481Z"
    },
    "id": "y_9gYudilTt_"
   },
   "outputs": [],
   "source": [
    "import numpy as np\n",
    "import pandas as pd\n",
    "import seaborn as sns\n",
    "import matplotlib.pyplot as plt\n",
    "\n",
    "%matplotlib inline"
   ]
  },
  {
   "cell_type": "code",
   "execution_count": null,
   "metadata": {
    "id": "1yNG4iFTlTuA"
   },
   "outputs": [],
   "source": []
  },
  {
   "cell_type": "markdown",
   "metadata": {
    "id": "-cpxC-IBlTuA"
   },
   "source": [
    "# 2. Carregando o dataframe SINASC <a name=\"read\"></a>\n",
    "<div style=\"text-align: right\"\n",
    "     \n",
    "[Voltar ao índice](#Contents)"
   ]
  },
  {
   "cell_type": "code",
   "execution_count": 165,
   "metadata": {
    "ExecuteTime": {
     "end_time": "2021-06-06T21:12:37.762376Z",
     "start_time": "2021-06-06T21:12:37.728383Z"
    },
    "id": "nQZn7u4DlTuB",
    "outputId": "74b44036-69d9-4139-b291-621d77ed331b",
    "scrolled": true
   },
   "outputs": [
    {
     "data": {
      "text/html": [
       "<div>\n",
       "<style scoped>\n",
       "    .dataframe tbody tr th:only-of-type {\n",
       "        vertical-align: middle;\n",
       "    }\n",
       "\n",
       "    .dataframe tbody tr th {\n",
       "        vertical-align: top;\n",
       "    }\n",
       "\n",
       "    .dataframe thead th {\n",
       "        text-align: right;\n",
       "    }\n",
       "</style>\n",
       "<table border=\"1\" class=\"dataframe\">\n",
       "  <thead>\n",
       "    <tr style=\"text-align: right;\">\n",
       "      <th></th>\n",
       "      <th>ORIGEM</th>\n",
       "      <th>CODESTAB</th>\n",
       "      <th>CODMUNNASC</th>\n",
       "      <th>LOCNASC</th>\n",
       "      <th>IDADEMAE</th>\n",
       "      <th>ESTCIVMAE</th>\n",
       "      <th>ESCMAE</th>\n",
       "      <th>CODOCUPMAE</th>\n",
       "      <th>QTDFILVIVO</th>\n",
       "      <th>QTDFILMORT</th>\n",
       "      <th>...</th>\n",
       "      <th>KOTELCHUCK</th>\n",
       "      <th>CONTADOR</th>\n",
       "      <th>munResStatus</th>\n",
       "      <th>munResTipo</th>\n",
       "      <th>munResNome</th>\n",
       "      <th>munResUf</th>\n",
       "      <th>munResLat</th>\n",
       "      <th>munResLon</th>\n",
       "      <th>munResAlt</th>\n",
       "      <th>munResArea</th>\n",
       "    </tr>\n",
       "  </thead>\n",
       "  <tbody>\n",
       "    <tr>\n",
       "      <th>0</th>\n",
       "      <td>1</td>\n",
       "      <td>2679477.0</td>\n",
       "      <td>110001</td>\n",
       "      <td>1</td>\n",
       "      <td>19</td>\n",
       "      <td>5.0</td>\n",
       "      <td>8 a 11 anos</td>\n",
       "      <td>NaN</td>\n",
       "      <td>0.0</td>\n",
       "      <td>0.0</td>\n",
       "      <td>...</td>\n",
       "      <td>5</td>\n",
       "      <td>1</td>\n",
       "      <td>ATIVO</td>\n",
       "      <td>MUNIC</td>\n",
       "      <td>Alta Floresta D'Oeste</td>\n",
       "      <td>Rondônia</td>\n",
       "      <td>-11.93554</td>\n",
       "      <td>-61.99982</td>\n",
       "      <td>338.0</td>\n",
       "      <td>7067.025</td>\n",
       "    </tr>\n",
       "    <tr>\n",
       "      <th>1</th>\n",
       "      <td>1</td>\n",
       "      <td>2679477.0</td>\n",
       "      <td>110001</td>\n",
       "      <td>1</td>\n",
       "      <td>29</td>\n",
       "      <td>2.0</td>\n",
       "      <td>8 a 11 anos</td>\n",
       "      <td>999992.0</td>\n",
       "      <td>1.0</td>\n",
       "      <td>0.0</td>\n",
       "      <td>...</td>\n",
       "      <td>5</td>\n",
       "      <td>2</td>\n",
       "      <td>ATIVO</td>\n",
       "      <td>MUNIC</td>\n",
       "      <td>Alta Floresta D'Oeste</td>\n",
       "      <td>Rondônia</td>\n",
       "      <td>-11.93554</td>\n",
       "      <td>-61.99982</td>\n",
       "      <td>338.0</td>\n",
       "      <td>7067.025</td>\n",
       "    </tr>\n",
       "    <tr>\n",
       "      <th>2</th>\n",
       "      <td>1</td>\n",
       "      <td>2679477.0</td>\n",
       "      <td>110001</td>\n",
       "      <td>1</td>\n",
       "      <td>37</td>\n",
       "      <td>9.0</td>\n",
       "      <td>8 a 11 anos</td>\n",
       "      <td>513205.0</td>\n",
       "      <td>2.0</td>\n",
       "      <td>0.0</td>\n",
       "      <td>...</td>\n",
       "      <td>5</td>\n",
       "      <td>3</td>\n",
       "      <td>ATIVO</td>\n",
       "      <td>MUNIC</td>\n",
       "      <td>Alta Floresta D'Oeste</td>\n",
       "      <td>Rondônia</td>\n",
       "      <td>-11.93554</td>\n",
       "      <td>-61.99982</td>\n",
       "      <td>338.0</td>\n",
       "      <td>7067.025</td>\n",
       "    </tr>\n",
       "    <tr>\n",
       "      <th>3</th>\n",
       "      <td>1</td>\n",
       "      <td>2516500.0</td>\n",
       "      <td>110001</td>\n",
       "      <td>1</td>\n",
       "      <td>30</td>\n",
       "      <td>5.0</td>\n",
       "      <td>12 anos ou mais</td>\n",
       "      <td>231205.0</td>\n",
       "      <td>0.0</td>\n",
       "      <td>0.0</td>\n",
       "      <td>...</td>\n",
       "      <td>4</td>\n",
       "      <td>4</td>\n",
       "      <td>ATIVO</td>\n",
       "      <td>MUNIC</td>\n",
       "      <td>Alto Alegre dos Parecis</td>\n",
       "      <td>Rondônia</td>\n",
       "      <td>-12.13178</td>\n",
       "      <td>-61.85308</td>\n",
       "      <td>397.0</td>\n",
       "      <td>3958.273</td>\n",
       "    </tr>\n",
       "    <tr>\n",
       "      <th>4</th>\n",
       "      <td>1</td>\n",
       "      <td>2516500.0</td>\n",
       "      <td>110001</td>\n",
       "      <td>1</td>\n",
       "      <td>30</td>\n",
       "      <td>2.0</td>\n",
       "      <td>8 a 11 anos</td>\n",
       "      <td>999992.0</td>\n",
       "      <td>1.0</td>\n",
       "      <td>0.0</td>\n",
       "      <td>...</td>\n",
       "      <td>5</td>\n",
       "      <td>5</td>\n",
       "      <td>ATIVO</td>\n",
       "      <td>MUNIC</td>\n",
       "      <td>Alta Floresta D'Oeste</td>\n",
       "      <td>Rondônia</td>\n",
       "      <td>-11.93554</td>\n",
       "      <td>-61.99982</td>\n",
       "      <td>338.0</td>\n",
       "      <td>7067.025</td>\n",
       "    </tr>\n",
       "  </tbody>\n",
       "</table>\n",
       "<p>5 rows × 69 columns</p>\n",
       "</div>"
      ],
      "text/plain": [
       "   ORIGEM   CODESTAB  CODMUNNASC  LOCNASC  IDADEMAE  ESTCIVMAE  \\\n",
       "0       1  2679477.0      110001        1        19        5.0   \n",
       "1       1  2679477.0      110001        1        29        2.0   \n",
       "2       1  2679477.0      110001        1        37        9.0   \n",
       "3       1  2516500.0      110001        1        30        5.0   \n",
       "4       1  2516500.0      110001        1        30        2.0   \n",
       "\n",
       "            ESCMAE  CODOCUPMAE  QTDFILVIVO  QTDFILMORT  ...  KOTELCHUCK  \\\n",
       "0      8 a 11 anos         NaN         0.0         0.0  ...           5   \n",
       "1      8 a 11 anos    999992.0         1.0         0.0  ...           5   \n",
       "2      8 a 11 anos    513205.0         2.0         0.0  ...           5   \n",
       "3  12 anos ou mais    231205.0         0.0         0.0  ...           4   \n",
       "4      8 a 11 anos    999992.0         1.0         0.0  ...           5   \n",
       "\n",
       "  CONTADOR munResStatus munResTipo               munResNome  munResUf  \\\n",
       "0        1        ATIVO      MUNIC    Alta Floresta D'Oeste  Rondônia   \n",
       "1        2        ATIVO      MUNIC    Alta Floresta D'Oeste  Rondônia   \n",
       "2        3        ATIVO      MUNIC    Alta Floresta D'Oeste  Rondônia   \n",
       "3        4        ATIVO      MUNIC  Alto Alegre dos Parecis  Rondônia   \n",
       "4        5        ATIVO      MUNIC    Alta Floresta D'Oeste  Rondônia   \n",
       "\n",
       "   munResLat munResLon  munResAlt  munResArea  \n",
       "0  -11.93554 -61.99982      338.0    7067.025  \n",
       "1  -11.93554 -61.99982      338.0    7067.025  \n",
       "2  -11.93554 -61.99982      338.0    7067.025  \n",
       "3  -12.13178 -61.85308      397.0    3958.273  \n",
       "4  -11.93554 -61.99982      338.0    7067.025  \n",
       "\n",
       "[5 rows x 69 columns]"
      ]
     },
     "execution_count": 165,
     "metadata": {},
     "output_type": "execute_result"
    }
   ],
   "source": [
    "sinasc_raw = pd.read_csv(r'C:\\Users\\felip\\OneDrive\\Ebac\\Groupby, aggregate e mapping\\tdD 3 - agregagões e operações em grupo\\Profissão Cientista de Dados M9 A1 - SINASC_RO_2019.csv')\n",
    "sinasc_raw.head()"
   ]
  },
  {
   "cell_type": "code",
   "execution_count": 166,
   "metadata": {
    "id": "Pz_6GorclTuC"
   },
   "outputs": [
    {
     "data": {
      "text/plain": [
       "Index(['ORIGEM', 'CODESTAB', 'CODMUNNASC', 'LOCNASC', 'IDADEMAE', 'ESTCIVMAE',\n",
       "       'ESCMAE', 'CODOCUPMAE', 'QTDFILVIVO', 'QTDFILMORT', 'CODMUNRES',\n",
       "       'GESTACAO', 'GRAVIDEZ', 'PARTO', 'CONSULTAS', 'DTNASC', 'HORANASC',\n",
       "       'SEXO', 'APGAR1', 'APGAR5', 'RACACOR', 'PESO', 'IDANOMAL', 'DTCADASTRO',\n",
       "       'CODANOMAL', 'NUMEROLOTE', 'VERSAOSIST', 'DTRECEBIM', 'DIFDATA',\n",
       "       'DTRECORIGA', 'NATURALMAE', 'CODMUNNATU', 'CODUFNATU', 'ESCMAE2010',\n",
       "       'SERIESCMAE', 'DTNASCMAE', 'RACACORMAE', 'QTDGESTANT', 'QTDPARTNOR',\n",
       "       'QTDPARTCES', 'IDADEPAI', 'DTULTMENST', 'SEMAGESTAC', 'TPMETESTIM',\n",
       "       'CONSPRENAT', 'MESPRENAT', 'TPAPRESENT', 'STTRABPART', 'STCESPARTO',\n",
       "       'TPNASCASSI', 'TPFUNCRESP', 'TPDOCRESP', 'DTDECLARAC', 'ESCMAEAGR1',\n",
       "       'STDNEPIDEM', 'STDNNOVA', 'CODPAISRES', 'TPROBSON', 'PARIDADE',\n",
       "       'KOTELCHUCK', 'CONTADOR', 'munResStatus', 'munResTipo', 'munResNome',\n",
       "       'munResUf', 'munResLat', 'munResLon', 'munResAlt', 'munResArea'],\n",
       "      dtype='object')"
      ]
     },
     "execution_count": 166,
     "metadata": {},
     "output_type": "execute_result"
    }
   ],
   "source": [
    "sinasc_raw.columns"
   ]
  },
  {
   "cell_type": "code",
   "execution_count": 167,
   "metadata": {
    "id": "C7UKJm4slTuD"
   },
   "outputs": [
    {
     "data": {
      "text/plain": [
       "dtype('float64')"
      ]
     },
     "execution_count": 167,
     "metadata": {},
     "output_type": "execute_result"
    }
   ],
   "source": [
    "sinasc_raw['munResLat'].dtype"
   ]
  },
  {
   "cell_type": "code",
   "execution_count": null,
   "metadata": {
    "id": "X6JmtT08lTuD"
   },
   "outputs": [],
   "source": []
  },
  {
   "cell_type": "markdown",
   "metadata": {
    "id": "9GOoel3-lTuD"
   },
   "source": [
    "# Tarefa 2"
   ]
  },
  {
   "cell_type": "markdown",
   "metadata": {
    "id": "iNNeWswTlTuD"
   },
   "source": [
    "### 1. Crie 2 faixas de Latitude do município (munResLat) sendo uma acima e outra abaixo de -10.5 e aplique o groupby usando essas faixas como chave e realize operações de soma, media, minimo, maximo, mediana, desvio padrao, variancia pra pelo menos 2 variáveis numéricas ainda não utilizadas"
   ]
  },
  {
   "cell_type": "code",
   "execution_count": 168,
   "metadata": {
    "id": "HXtelNbnlTuE"
   },
   "outputs": [
    {
     "data": {
      "text/html": [
       "<div>\n",
       "<style scoped>\n",
       "    .dataframe tbody tr th:only-of-type {\n",
       "        vertical-align: middle;\n",
       "    }\n",
       "\n",
       "    .dataframe tbody tr th {\n",
       "        vertical-align: top;\n",
       "    }\n",
       "\n",
       "    .dataframe thead th {\n",
       "        text-align: right;\n",
       "    }\n",
       "</style>\n",
       "<table border=\"1\" class=\"dataframe\">\n",
       "  <thead>\n",
       "    <tr style=\"text-align: right;\">\n",
       "      <th></th>\n",
       "      <th>munResLat</th>\n",
       "    </tr>\n",
       "    <tr>\n",
       "      <th>munResLat</th>\n",
       "      <th></th>\n",
       "    </tr>\n",
       "  </thead>\n",
       "  <tbody>\n",
       "    <tr>\n",
       "      <th>&lt; -10.5</th>\n",
       "      <td>-11.612001</td>\n",
       "    </tr>\n",
       "    <tr>\n",
       "      <th>&gt;= -10.5</th>\n",
       "      <td>-9.235509</td>\n",
       "    </tr>\n",
       "  </tbody>\n",
       "</table>\n",
       "</div>"
      ],
      "text/plain": [
       "           munResLat\n",
       "munResLat           \n",
       "< -10.5   -11.612001\n",
       ">= -10.5   -9.235509"
      ]
     },
     "execution_count": 168,
     "metadata": {},
     "output_type": "execute_result"
    }
   ],
   "source": [
    "latitude_faixa = pd.cut(sinasc_raw['munResLat'], [-100, -10.5, 0], labels=['< -10.5', '>= -10.5'])\n",
    "sinasc_raw.pivot_table('munResLat', latitude_faixa)"
   ]
  },
  {
   "cell_type": "code",
   "execution_count": 169,
   "metadata": {},
   "outputs": [
    {
     "name": "stderr",
     "output_type": "stream",
     "text": [
      "C:\\Users\\felip\\AppData\\Local\\Temp\\ipykernel_4464\\699279083.py:1: FutureWarning: The default of observed=False is deprecated and will be changed to True in a future version of pandas. Pass observed=False to retain current behavior or observed=True to adopt the future default and silence this warning.\n",
      "  sinasc_raw.groupby(latitude_faixa)[['IDADEPAI', 'QTDFILVIVO']].agg(['mean', 'sum', 'min', 'max', 'median'])\n"
     ]
    },
    {
     "data": {
      "text/html": [
       "<div>\n",
       "<style scoped>\n",
       "    .dataframe tbody tr th:only-of-type {\n",
       "        vertical-align: middle;\n",
       "    }\n",
       "\n",
       "    .dataframe tbody tr th {\n",
       "        vertical-align: top;\n",
       "    }\n",
       "\n",
       "    .dataframe thead tr th {\n",
       "        text-align: left;\n",
       "    }\n",
       "\n",
       "    .dataframe thead tr:last-of-type th {\n",
       "        text-align: right;\n",
       "    }\n",
       "</style>\n",
       "<table border=\"1\" class=\"dataframe\">\n",
       "  <thead>\n",
       "    <tr>\n",
       "      <th></th>\n",
       "      <th colspan=\"5\" halign=\"left\">IDADEPAI</th>\n",
       "      <th colspan=\"5\" halign=\"left\">QTDFILVIVO</th>\n",
       "    </tr>\n",
       "    <tr>\n",
       "      <th></th>\n",
       "      <th>mean</th>\n",
       "      <th>sum</th>\n",
       "      <th>min</th>\n",
       "      <th>max</th>\n",
       "      <th>median</th>\n",
       "      <th>mean</th>\n",
       "      <th>sum</th>\n",
       "      <th>min</th>\n",
       "      <th>max</th>\n",
       "      <th>median</th>\n",
       "    </tr>\n",
       "    <tr>\n",
       "      <th>munResLat</th>\n",
       "      <th></th>\n",
       "      <th></th>\n",
       "      <th></th>\n",
       "      <th></th>\n",
       "      <th></th>\n",
       "      <th></th>\n",
       "      <th></th>\n",
       "      <th></th>\n",
       "      <th></th>\n",
       "      <th></th>\n",
       "    </tr>\n",
       "  </thead>\n",
       "  <tbody>\n",
       "    <tr>\n",
       "      <th>&lt; -10.5</th>\n",
       "      <td>30.903145</td>\n",
       "      <td>198460.0</td>\n",
       "      <td>15.0</td>\n",
       "      <td>86.0</td>\n",
       "      <td>30.0</td>\n",
       "      <td>0.980011</td>\n",
       "      <td>12600.0</td>\n",
       "      <td>0.0</td>\n",
       "      <td>30.0</td>\n",
       "      <td>1.0</td>\n",
       "    </tr>\n",
       "    <tr>\n",
       "      <th>&gt;= -10.5</th>\n",
       "      <td>32.126689</td>\n",
       "      <td>38038.0</td>\n",
       "      <td>16.0</td>\n",
       "      <td>73.0</td>\n",
       "      <td>31.0</td>\n",
       "      <td>1.129317</td>\n",
       "      <td>14226.0</td>\n",
       "      <td>0.0</td>\n",
       "      <td>12.0</td>\n",
       "      <td>1.0</td>\n",
       "    </tr>\n",
       "  </tbody>\n",
       "</table>\n",
       "</div>"
      ],
      "text/plain": [
       "            IDADEPAI                              QTDFILVIVO                \\\n",
       "                mean       sum   min   max median       mean      sum  min   \n",
       "munResLat                                                                    \n",
       "< -10.5    30.903145  198460.0  15.0  86.0   30.0   0.980011  12600.0  0.0   \n",
       ">= -10.5   32.126689   38038.0  16.0  73.0   31.0   1.129317  14226.0  0.0   \n",
       "\n",
       "                        \n",
       "            max median  \n",
       "munResLat               \n",
       "< -10.5    30.0    1.0  \n",
       ">= -10.5   12.0    1.0  "
      ]
     },
     "execution_count": 169,
     "metadata": {},
     "output_type": "execute_result"
    }
   ],
   "source": [
    "sinasc_raw.groupby(latitude_faixa)[['IDADEPAI', 'QTDFILVIVO']].agg(['mean', 'sum', 'min', 'max', 'median'])\n"
   ]
  },
  {
   "cell_type": "markdown",
   "metadata": {
    "id": "AK33D0mdlTuE"
   },
   "source": [
    "### 2. Crie 2 faixas da área dos municípios (munResArea) sendo uma acima e outra abaixo de 3000 e aplique o groupby usando essas faixas como chave e realize operações de soma, media, minimo, maximo, mediana, desvio padrao, variancia pra pelo menos 2 variáveis numéricas ainda não utilizadas\n"
   ]
  },
  {
   "cell_type": "code",
   "execution_count": 170,
   "metadata": {
    "id": "qqCXJtYIlTuE"
   },
   "outputs": [
    {
     "data": {
      "text/plain": [
       "dtype('float64')"
      ]
     },
     "execution_count": 170,
     "metadata": {},
     "output_type": "execute_result"
    }
   ],
   "source": [
    "sinasc_raw['munResArea'].dtype"
   ]
  },
  {
   "cell_type": "code",
   "execution_count": 171,
   "metadata": {},
   "outputs": [
    {
     "name": "stderr",
     "output_type": "stream",
     "text": [
      "C:\\Users\\felip\\AppData\\Local\\Temp\\ipykernel_4464\\1211054640.py:11: FutureWarning: The default of observed=False is deprecated and will be changed to True in a future version of pandas. Pass observed=False to retain current behavior or observed=True to adopt the future default and silence this warning.\n",
      "  sinasc_raw.groupby(faixa_area)[['QTDFILMORT', 'APGAR1']].agg(['mean', 'sum', 'min', 'max', 'median', 'std', 'var'])\n"
     ]
    },
    {
     "data": {
      "text/html": [
       "<div>\n",
       "<style scoped>\n",
       "    .dataframe tbody tr th:only-of-type {\n",
       "        vertical-align: middle;\n",
       "    }\n",
       "\n",
       "    .dataframe tbody tr th {\n",
       "        vertical-align: top;\n",
       "    }\n",
       "\n",
       "    .dataframe thead tr th {\n",
       "        text-align: left;\n",
       "    }\n",
       "\n",
       "    .dataframe thead tr:last-of-type th {\n",
       "        text-align: right;\n",
       "    }\n",
       "</style>\n",
       "<table border=\"1\" class=\"dataframe\">\n",
       "  <thead>\n",
       "    <tr>\n",
       "      <th></th>\n",
       "      <th colspan=\"7\" halign=\"left\">QTDFILMORT</th>\n",
       "      <th colspan=\"7\" halign=\"left\">APGAR1</th>\n",
       "    </tr>\n",
       "    <tr>\n",
       "      <th></th>\n",
       "      <th>mean</th>\n",
       "      <th>sum</th>\n",
       "      <th>min</th>\n",
       "      <th>max</th>\n",
       "      <th>median</th>\n",
       "      <th>std</th>\n",
       "      <th>var</th>\n",
       "      <th>mean</th>\n",
       "      <th>sum</th>\n",
       "      <th>min</th>\n",
       "      <th>max</th>\n",
       "      <th>median</th>\n",
       "      <th>std</th>\n",
       "      <th>var</th>\n",
       "    </tr>\n",
       "    <tr>\n",
       "      <th>munResArea</th>\n",
       "      <th></th>\n",
       "      <th></th>\n",
       "      <th></th>\n",
       "      <th></th>\n",
       "      <th></th>\n",
       "      <th></th>\n",
       "      <th></th>\n",
       "      <th></th>\n",
       "      <th></th>\n",
       "      <th></th>\n",
       "      <th></th>\n",
       "      <th></th>\n",
       "      <th></th>\n",
       "      <th></th>\n",
       "    </tr>\n",
       "  </thead>\n",
       "  <tbody>\n",
       "    <tr>\n",
       "      <th>Abaixo de 3000</th>\n",
       "      <td>0.245328</td>\n",
       "      <td>1247.0</td>\n",
       "      <td>0.0</td>\n",
       "      <td>4.0</td>\n",
       "      <td>0.0</td>\n",
       "      <td>0.552102</td>\n",
       "      <td>0.304816</td>\n",
       "      <td>8.074218</td>\n",
       "      <td>41558.0</td>\n",
       "      <td>0.0</td>\n",
       "      <td>10.0</td>\n",
       "      <td>8.0</td>\n",
       "      <td>1.009443</td>\n",
       "      <td>1.018976</td>\n",
       "    </tr>\n",
       "    <tr>\n",
       "      <th>Acima de 3000</th>\n",
       "      <td>0.272116</td>\n",
       "      <td>5383.0</td>\n",
       "      <td>0.0</td>\n",
       "      <td>28.0</td>\n",
       "      <td>0.0</td>\n",
       "      <td>0.629081</td>\n",
       "      <td>0.395743</td>\n",
       "      <td>8.152808</td>\n",
       "      <td>177079.0</td>\n",
       "      <td>0.0</td>\n",
       "      <td>10.0</td>\n",
       "      <td>8.0</td>\n",
       "      <td>0.978517</td>\n",
       "      <td>0.957495</td>\n",
       "    </tr>\n",
       "  </tbody>\n",
       "</table>\n",
       "</div>"
      ],
      "text/plain": [
       "               QTDFILMORT                                                \\\n",
       "                     mean     sum  min   max median       std       var   \n",
       "munResArea                                                                \n",
       "Abaixo de 3000   0.245328  1247.0  0.0   4.0    0.0  0.552102  0.304816   \n",
       "Acima de 3000    0.272116  5383.0  0.0  28.0    0.0  0.629081  0.395743   \n",
       "\n",
       "                  APGAR1                                                  \n",
       "                    mean       sum  min   max median       std       var  \n",
       "munResArea                                                                \n",
       "Abaixo de 3000  8.074218   41558.0  0.0  10.0    8.0  1.009443  1.018976  \n",
       "Acima de 3000   8.152808  177079.0  0.0  10.0    8.0  0.978517  0.957495  "
      ]
     },
     "execution_count": 171,
     "metadata": {},
     "output_type": "execute_result"
    }
   ],
   "source": [
    "faixa_area = pd.cut(\n",
    "    sinasc_raw['munResArea'],\n",
    "    bins=[\n",
    "        sinasc_raw['munResArea'].min(),\n",
    "        3000,\n",
    "        sinasc_raw['munResArea'].max()\n",
    "    ],\n",
    "    labels=['Abaixo de 3000', 'Acima de 3000']\n",
    ")\n",
    "\n",
    "sinasc_raw.groupby(faixa_area)[['QTDFILMORT', 'APGAR1']].agg(['mean', 'sum', 'min', 'max', 'median', 'std', 'var'])\n"
   ]
  },
  {
   "cell_type": "code",
   "execution_count": null,
   "metadata": {},
   "outputs": [],
   "source": []
  },
  {
   "cell_type": "markdown",
   "metadata": {
    "id": "aWaljnnxlTuE"
   },
   "source": [
    "### 3. Determine faixas na variável munResAlt e aplique o groupby usando essas faixas como chave e realize operações de soma, media, minimo, maximo, mediana, desvio padrao, variancia pra pelo menos 2 variáveis numéricas ainda não utilizadas"
   ]
  },
  {
   "cell_type": "code",
   "execution_count": 172,
   "metadata": {},
   "outputs": [],
   "source": [
    "faixa_alt = pd.cut(sinasc_raw['munResAlt'],\n",
    "                   bins=[sinasc_raw['munResAlt'].min(),\n",
    "                         sinasc_raw['munResAlt'].mean(),\n",
    "                         sinasc_raw['munResAlt'].max()],\n",
    "                   labels =[\"Abaixo da média\", 'Acima da média'])\n",
    "                                                 "
   ]
  },
  {
   "cell_type": "code",
   "execution_count": 173,
   "metadata": {},
   "outputs": [
    {
     "data": {
      "text/plain": [
       "<bound method NDFrame.head of 0        37 a 41 semanas\n",
       "1        37 a 41 semanas\n",
       "2        37 a 41 semanas\n",
       "3        37 a 41 semanas\n",
       "4        37 a 41 semanas\n",
       "              ...       \n",
       "27023    32 a 36 semanas\n",
       "27024    37 a 41 semanas\n",
       "27025    37 a 41 semanas\n",
       "27026    32 a 36 semanas\n",
       "27027    37 a 41 semanas\n",
       "Name: GESTACAO, Length: 27028, dtype: object>"
      ]
     },
     "execution_count": 173,
     "metadata": {},
     "output_type": "execute_result"
    }
   ],
   "source": [
    "sinasc_raw['GESTACAO'].head"
   ]
  },
  {
   "cell_type": "code",
   "execution_count": 174,
   "metadata": {},
   "outputs": [
    {
     "name": "stderr",
     "output_type": "stream",
     "text": [
      "C:\\Users\\felip\\AppData\\Local\\Temp\\ipykernel_4464\\2361262549.py:1: FutureWarning: The default of observed=False is deprecated and will be changed to True in a future version of pandas. Pass observed=False to retain current behavior or observed=True to adopt the future default and silence this warning.\n",
      "  sinasc_raw.groupby(faixa_alt)[['APGAR5', 'IDADEPAI', 'QTDFILVIVO']].agg(['sum', 'mean', 'min', 'max'])\n"
     ]
    },
    {
     "data": {
      "text/html": [
       "<div>\n",
       "<style scoped>\n",
       "    .dataframe tbody tr th:only-of-type {\n",
       "        vertical-align: middle;\n",
       "    }\n",
       "\n",
       "    .dataframe tbody tr th {\n",
       "        vertical-align: top;\n",
       "    }\n",
       "\n",
       "    .dataframe thead tr th {\n",
       "        text-align: left;\n",
       "    }\n",
       "\n",
       "    .dataframe thead tr:last-of-type th {\n",
       "        text-align: right;\n",
       "    }\n",
       "</style>\n",
       "<table border=\"1\" class=\"dataframe\">\n",
       "  <thead>\n",
       "    <tr>\n",
       "      <th></th>\n",
       "      <th colspan=\"4\" halign=\"left\">APGAR5</th>\n",
       "      <th colspan=\"4\" halign=\"left\">IDADEPAI</th>\n",
       "      <th colspan=\"4\" halign=\"left\">QTDFILVIVO</th>\n",
       "    </tr>\n",
       "    <tr>\n",
       "      <th></th>\n",
       "      <th>sum</th>\n",
       "      <th>mean</th>\n",
       "      <th>min</th>\n",
       "      <th>max</th>\n",
       "      <th>sum</th>\n",
       "      <th>mean</th>\n",
       "      <th>min</th>\n",
       "      <th>max</th>\n",
       "      <th>sum</th>\n",
       "      <th>mean</th>\n",
       "      <th>min</th>\n",
       "      <th>max</th>\n",
       "    </tr>\n",
       "    <tr>\n",
       "      <th>munResAlt</th>\n",
       "      <th></th>\n",
       "      <th></th>\n",
       "      <th></th>\n",
       "      <th></th>\n",
       "      <th></th>\n",
       "      <th></th>\n",
       "      <th></th>\n",
       "      <th></th>\n",
       "      <th></th>\n",
       "      <th></th>\n",
       "      <th></th>\n",
       "      <th></th>\n",
       "    </tr>\n",
       "  </thead>\n",
       "  <tbody>\n",
       "    <tr>\n",
       "      <th>Abaixo da média</th>\n",
       "      <td>172306.0</td>\n",
       "      <td>9.195538</td>\n",
       "      <td>0.0</td>\n",
       "      <td>10.0</td>\n",
       "      <td>117580.0</td>\n",
       "      <td>31.337953</td>\n",
       "      <td>15.0</td>\n",
       "      <td>73.0</td>\n",
       "      <td>19090.0</td>\n",
       "      <td>1.098389</td>\n",
       "      <td>0.0</td>\n",
       "      <td>14.0</td>\n",
       "    </tr>\n",
       "    <tr>\n",
       "      <th>Acima da média</th>\n",
       "      <td>71757.0</td>\n",
       "      <td>9.136364</td>\n",
       "      <td>0.0</td>\n",
       "      <td>10.0</td>\n",
       "      <td>118350.0</td>\n",
       "      <td>30.860495</td>\n",
       "      <td>16.0</td>\n",
       "      <td>86.0</td>\n",
       "      <td>7303.0</td>\n",
       "      <td>0.939655</td>\n",
       "      <td>0.0</td>\n",
       "      <td>30.0</td>\n",
       "    </tr>\n",
       "  </tbody>\n",
       "</table>\n",
       "</div>"
      ],
      "text/plain": [
       "                   APGAR5                       IDADEPAI                   \\\n",
       "                      sum      mean  min   max       sum       mean   min   \n",
       "munResAlt                                                                   \n",
       "Abaixo da média  172306.0  9.195538  0.0  10.0  117580.0  31.337953  15.0   \n",
       "Acima da média    71757.0  9.136364  0.0  10.0  118350.0  30.860495  16.0   \n",
       "\n",
       "                      QTDFILVIVO                       \n",
       "                  max        sum      mean  min   max  \n",
       "munResAlt                                              \n",
       "Abaixo da média  73.0    19090.0  1.098389  0.0  14.0  \n",
       "Acima da média   86.0     7303.0  0.939655  0.0  30.0  "
      ]
     },
     "execution_count": 174,
     "metadata": {},
     "output_type": "execute_result"
    }
   ],
   "source": [
    "sinasc_raw.groupby(faixa_alt)[['APGAR5', 'IDADEPAI', 'QTDFILVIVO']].agg(['sum', 'mean', 'min', 'max'])\n"
   ]
  },
  {
   "cell_type": "markdown",
   "metadata": {
    "id": "aF1riawJlTuF"
   },
   "source": [
    "### 4. Plote no mesmo grafico ao longo do tempo a idade media das mulheres de cada regiao imediatas de rondonia\n"
   ]
  },
  {
   "cell_type": "code",
   "execution_count": 175,
   "metadata": {
    "id": "6aZM5xKale9c"
   },
   "outputs": [],
   "source": [
    "imediatas = {\n",
    "    \"Candeias do Jamari\": \"Porto Velho\",\n",
    "    \"Guajará-Mirim\": \"Porto Velho\",\n",
    "    \"Itapuã do Oeste\": \"Porto Velho\",\n",
    "    \"Nova Mamoré\": \"Porto Velho\",\n",
    "    \"Porto Velho\": \"Porto Velho\",\n",
    "    \"Ariquemes\": \"Ariquemes\",\n",
    "    \"Alto Paraíso\": \"Ariquemes\",\n",
    "    \"Buritis\": \"Ariquemes\",\n",
    "    \"Cacaulândia\": \"Ariquemes\",\n",
    "    \"Campo Novo de Rondônia\": \"Ariquemes\",\n",
    "    \"Cujubim\": \"Ariquemes\",\n",
    "    \"Monte Negro\": \"Ariquemes\",\n",
    "    \"Rio Crespo\": \"Ariquemes\",\n",
    "    \"Jaru\": \"Jaru\",\n",
    "    \"Governador Jorge Teixeira\": \"Jaru\",\n",
    "    \"Machadinho D'Oeste\": \"Jaru\",\n",
    "    \"Theobroma\": \"Jaru\",\n",
    "    \"Vale do Anari\": \"Jaru\",\n",
    "    \"Alvorada D'Oeste\": \"Ji-Paraná\",\n",
    "    \"Costa Marques\": \"Ji-Paraná\",\n",
    "    \"Ji-Paraná\": \"Ji-Paraná\",\n",
    "    \"Mirante da Serra\": \"Ji-Paraná\",\n",
    "    \"Nova União\": \"Ji-Paraná\",\n",
    "    \"Ouro Preto do Oeste\": \"Ji-Paraná\",\n",
    "    \"Presidente Médici\": \"Ji-Paraná\",\n",
    "    \"São Francisco do Guaporé\": \"Ji-Paraná\",\n",
    "    \"São Miguel do Guaporé\": \"Ji-Paraná\",\n",
    "    \"Seringueiras\": \"Ji-Paraná\",\n",
    "    \"Teixeirópolis\": \"Ji-Paraná\",\n",
    "    \"Urupá\": \"Ji-Paraná\",\n",
    "    \"Vale do Paraíso\": \"Ji-Paraná\",\n",
    "    \"Cacoal\": \"Cacoal\",\n",
    "    \"Alta Floresta D'Oeste\": \"Cacoal\",\n",
    "    \"Alto Alegre dos Parecis\": \"Cacoal\",\n",
    "    \"Castanheiras\": \"Cacoal\",\n",
    "    \"Espigão D'Oeste\": \"Cacoal\",\n",
    "    \"Ministro Andreazza\": \"Cacoal\",\n",
    "    \"Nova Brasilândia D'Oeste\": \"Cacoal\",\n",
    "    \"Novo Horizonte do Oeste\": \"Cacoal\",\n",
    "    \"Parecis\": \"Cacoal\",\n",
    "    \"Pimenta Bueno\": \"Cacoal\",\n",
    "    \"Primavera de Rondônia\": \"Cacoal\",\n",
    "    \"Rolim de Moura\": \"Cacoal\",\n",
    "    \"Santa Luzia D'Oeste\": \"Cacoal\",\n",
    "    \"São Felipe D'Oeste\": \"Cacoal\",\n",
    "    \"Vilhena\": \"Vilhena\",\n",
    "    \"Cabixi\": \"Vilhena\",\n",
    "    \"Cerejeiras\": \"Vilhena\",\n",
    "    \"Chupinguaia\": \"Vilhena\",\n",
    "    \"Colorado do Oeste\": \"Vilhena\",\n",
    "    \"Corumbiara\": \"Vilhena\",\n",
    "    \"Pimenteiras do Oeste\": \"Vilhena\"\n",
    "}"
   ]
  },
  {
   "cell_type": "code",
   "execution_count": 176,
   "metadata": {},
   "outputs": [
    {
     "data": {
      "text/html": [
       "<div>\n",
       "<style scoped>\n",
       "    .dataframe tbody tr th:only-of-type {\n",
       "        vertical-align: middle;\n",
       "    }\n",
       "\n",
       "    .dataframe tbody tr th {\n",
       "        vertical-align: top;\n",
       "    }\n",
       "\n",
       "    .dataframe thead th {\n",
       "        text-align: right;\n",
       "    }\n",
       "</style>\n",
       "<table border=\"1\" class=\"dataframe\">\n",
       "  <thead>\n",
       "    <tr style=\"text-align: right;\">\n",
       "      <th></th>\n",
       "      <th>IDADEMAE</th>\n",
       "      <th>CONSULTAS</th>\n",
       "    </tr>\n",
       "    <tr>\n",
       "      <th>munResNome</th>\n",
       "      <th></th>\n",
       "      <th></th>\n",
       "    </tr>\n",
       "  </thead>\n",
       "  <tbody>\n",
       "    <tr>\n",
       "      <th>Ariquemes</th>\n",
       "      <td>25.0</td>\n",
       "      <td>4.0</td>\n",
       "    </tr>\n",
       "    <tr>\n",
       "      <th>Cacoal</th>\n",
       "      <td>26.0</td>\n",
       "      <td>4.0</td>\n",
       "    </tr>\n",
       "    <tr>\n",
       "      <th>Jaru</th>\n",
       "      <td>26.0</td>\n",
       "      <td>4.0</td>\n",
       "    </tr>\n",
       "    <tr>\n",
       "      <th>Ji-Paraná</th>\n",
       "      <td>26.0</td>\n",
       "      <td>4.0</td>\n",
       "    </tr>\n",
       "    <tr>\n",
       "      <th>Porto Velho</th>\n",
       "      <td>26.0</td>\n",
       "      <td>3.0</td>\n",
       "    </tr>\n",
       "    <tr>\n",
       "      <th>Vilhena</th>\n",
       "      <td>26.0</td>\n",
       "      <td>4.0</td>\n",
       "    </tr>\n",
       "  </tbody>\n",
       "</table>\n",
       "</div>"
      ],
      "text/plain": [
       "             IDADEMAE  CONSULTAS\n",
       "munResNome                      \n",
       "Ariquemes        25.0        4.0\n",
       "Cacoal           26.0        4.0\n",
       "Jaru             26.0        4.0\n",
       "Ji-Paraná        26.0        4.0\n",
       "Porto Velho      26.0        3.0\n",
       "Vilhena          26.0        4.0"
      ]
     },
     "execution_count": 176,
     "metadata": {},
     "output_type": "execute_result"
    }
   ],
   "source": [
    "sinasc_raw.groupby(sinasc_raw['munResNome'].map(imediatas))[['IDADEMAE','CONSULTAS']].agg('mean').round(0)\n"
   ]
  },
  {
   "cell_type": "code",
   "execution_count": 177,
   "metadata": {},
   "outputs": [
    {
     "data": {
      "text/plain": [
       "munResNome\n",
       "Porto Velho                  8437\n",
       "Ji-Paraná                    2182\n",
       "Ariquemes                    1729\n",
       "Vilhena                      1590\n",
       "Cacoal                       1374\n",
       "Rolim de Moura                927\n",
       "Jaru                          881\n",
       "Guajará-Mirim                 781\n",
       "Ouro Preto do Oeste           631\n",
       "Pimenta Bueno                 616\n",
       "Buritis                       583\n",
       "Machadinho D'Oeste            500\n",
       "Espigão D'Oeste               450\n",
       "Nova Mamoré                   432\n",
       "Alta Floresta D'Oeste         367\n",
       "São Miguel do Guaporé         353\n",
       "Candeias do Jamari            337\n",
       "Presidente Médici             304\n",
       "São Francisco do Guaporé      303\n",
       "Nova Brasilândia D'Oeste      261\n",
       "Cerejeiras                    237\n",
       "Costa Marques                 233\n",
       "Alto Paraíso                  226\n",
       "Colorado do Oeste             214\n",
       "Alvorada D'Oeste              205\n",
       "Cujubim                       205\n",
       "Monte Negro                   199\n",
       "Urupá                         170\n",
       "Seringueiras                  168\n",
       "Campo Novo de Rondônia        166\n",
       "Mirante da Serra              164\n",
       "Chupinguaia                   162\n",
       "Alto Alegre dos Parecis       154\n",
       "Corumbiara                    127\n",
       "Governador Jorge Teixeira     112\n",
       "Itapuã do Oeste               109\n",
       "Nova União                    104\n",
       "Santa Luzia D'Oeste            99\n",
       "Novo Horizonte do Oeste        98\n",
       "Theobroma                      97\n",
       "Vale do Anari                  93\n",
       "Ministro Andreazza             84\n",
       "Vale do Paraíso                81\n",
       "Cabixi                         80\n",
       "Cacaulândia                    75\n",
       "Teixeirópolis                  64\n",
       "São Felipe D'Oeste             54\n",
       "Rio Crespo                     50\n",
       "Parecis                        44\n",
       "Primavera de Rondônia          43\n",
       "Pimenteiras do Oeste           40\n",
       "Castanheiras                   32\n",
       "Município ignorado - RO         1\n",
       "Name: count, dtype: int64"
      ]
     },
     "execution_count": 177,
     "metadata": {},
     "output_type": "execute_result"
    }
   ],
   "source": [
    "sinasc_raw['munResNome'].value_counts()"
   ]
  },
  {
   "cell_type": "markdown",
   "metadata": {
    "id": "yt-LIWxblTuF"
   },
   "source": [
    "### 5. Utilize a tabela do link abaixo e crie faixas utilizando o mapping e gere agrupamentos utilizando essas faixas como chave\n"
   ]
  },
  {
   "cell_type": "markdown",
   "metadata": {
    "id": "moZakjgIlTuF"
   },
   "source": [
    "### 5.1 IDH\n",
    "A - https://pt.wikipedia.org/wiki/Lista_de_munic%C3%ADpios_de_Rond%C3%B4nia_por_IDH-M\n"
   ]
  },
  {
   "cell_type": "code",
   "execution_count": 178,
   "metadata": {
    "id": "DaJk66_BlTuF"
   },
   "outputs": [],
   "source": [
    "idh_municipios = {\n",
    "    \"Porto Velho\": 0.736,\n",
    "    \"Vilhena\": 0.731,\n",
    "    \"Cacoal\": 0.718,\n",
    "    \"Ji-Paraná\": 0.714,\n",
    "    \"Pimenta Bueno\": 0.710,\n",
    "    \"Ariquemes\": 0.702,\n",
    "    \"Rolim de Moura\": 0.700,\n",
    "    \"Cerejeiras\": 0.692,\n",
    "    \"Jaru\": 0.689,\n",
    "    \"Colorado do Oeste\": 0.685,\n",
    "    \"Ouro Preto do Oeste\": 0.682,\n",
    "    \"Espigão D'Oeste\": 0.672,\n",
    "    \"Santa Luzia D'Oeste\": 0.670,\n",
    "    \"Pimenteiras do Oeste\": 0.665,\n",
    "    \"Presidente Médici\": 0.664,\n",
    "    \"Castanheiras\": 0.658,\n",
    "    \"Guajará-Mirim\": 0.657,\n",
    "    \"Chupinguaia\": 0.652,\n",
    "    \"Cabixi\": 0.650,\n",
    "    \"Candeias do Jamari\": 0.649,\n",
    "    \"São Felipe D'Oeste\": 0.649,\n",
    "    \"Cacaulândia\": 0.646,\n",
    "    \"São Miguel do Guaporé\": 0.646,\n",
    "    \"Mirante da Serra\": 0.643,\n",
    "    \"Alvorada D'Oeste\": 0.643,\n",
    "    \"Teixeirópolis\": 0.643,\n",
    "    \"Nova Brasilândia D'Oeste\": 0.643,\n",
    "    \"Rio Crespo\": 0.643,\n",
    "    \"Primavera de Rondônia\": 0.641,\n",
    "    \"Alta Floresta D'Oeste\": 0.641,\n",
    "    \"Ministro Andreazza\": 0.638,\n",
    "    \"Novo Horizonte do Oeste\": 0.634,\n",
    "    \"Vale do Paraíso\": 0.627,\n",
    "    \"Alto Paraíso\": 0.625,\n",
    "    \"Parecis\": 0.617,\n",
    "    \"Buritis\": 0.616,\n",
    "    \"Itapuã do Oeste\": 0.614,\n",
    "    \"Corumbiara\": 0.613,\n",
    "    \"Cujubim\": 0.612,\n",
    "    \"Costa Marques\": 0.611,\n",
    "    \"São Francisco do Guaporé\": 0.611,\n",
    "    \"Urupá\": 0.609,\n",
    "    \"Monte Negro\": 0.607,\n",
    "    \"Seringueiras\": 0.598,\n",
    "    \"Governador Jorge Teixeira\": 0.596,\n",
    "    \"Machadinho D'Oeste\": 0.596,\n",
    "    \"Campo Novo de Rondônia\": 0.593,\n",
    "    \"Alto Alegre dos Parecis\": 0.592,\n",
    "    \"Theobroma\": 0.589,\n",
    "    \"Nova União\": 0.587,\n",
    "    \"Nova Mamoré\": 0.587,\n",
    "    \"Vale do Anari\": 0.584\n",
    "}\n",
    "\n",
    "\n"
   ]
  },
  {
   "cell_type": "code",
   "execution_count": 179,
   "metadata": {},
   "outputs": [],
   "source": [
    "\n",
    "sinasc_raw['IDHM'] = sinasc_raw['munResNome'].map(idh_municipios)\n",
    "\n",
    "\n",
    "\n",
    "\n"
   ]
  },
  {
   "cell_type": "code",
   "execution_count": 180,
   "metadata": {},
   "outputs": [
    {
     "name": "stderr",
     "output_type": "stream",
     "text": [
      "C:\\Users\\felip\\AppData\\Local\\Temp\\ipykernel_4464\\1157891604.py:3: FutureWarning: The default of observed=False is deprecated and will be changed to True in a future version of pandas. Pass observed=False to retain current behavior or observed=True to adopt the future default and silence this warning.\n",
      "  sinasc_raw.groupby(faixa_idh)[[\"IDADEMAE\",\"PESO\"]].mean()\n"
     ]
    },
    {
     "data": {
      "text/html": [
       "<div>\n",
       "<style scoped>\n",
       "    .dataframe tbody tr th:only-of-type {\n",
       "        vertical-align: middle;\n",
       "    }\n",
       "\n",
       "    .dataframe tbody tr th {\n",
       "        vertical-align: top;\n",
       "    }\n",
       "\n",
       "    .dataframe thead th {\n",
       "        text-align: right;\n",
       "    }\n",
       "</style>\n",
       "<table border=\"1\" class=\"dataframe\">\n",
       "  <thead>\n",
       "    <tr style=\"text-align: right;\">\n",
       "      <th></th>\n",
       "      <th>IDADEMAE</th>\n",
       "      <th>PESO</th>\n",
       "    </tr>\n",
       "    <tr>\n",
       "      <th>IDHM</th>\n",
       "      <th></th>\n",
       "      <th></th>\n",
       "    </tr>\n",
       "  </thead>\n",
       "  <tbody>\n",
       "    <tr>\n",
       "      <th>Baixo</th>\n",
       "      <td>25.358519</td>\n",
       "      <td>3230.041481</td>\n",
       "    </tr>\n",
       "    <tr>\n",
       "      <th>Médio</th>\n",
       "      <td>25.890635</td>\n",
       "      <td>3241.428624</td>\n",
       "    </tr>\n",
       "    <tr>\n",
       "      <th>Alto</th>\n",
       "      <td>26.280332</td>\n",
       "      <td>3245.623791</td>\n",
       "    </tr>\n",
       "  </tbody>\n",
       "</table>\n",
       "</div>"
      ],
      "text/plain": [
       "        IDADEMAE         PESO\n",
       "IDHM                         \n",
       "Baixo  25.358519  3230.041481\n",
       "Médio  25.890635  3241.428624\n",
       "Alto   26.280332  3245.623791"
      ]
     },
     "execution_count": 180,
     "metadata": {},
     "output_type": "execute_result"
    }
   ],
   "source": [
    "faixa_idh = pd.cut(sinasc_raw['IDHM'], bins=[0, 0.607, 0.692, 1], labels=['Baixo', 'Médio', 'Alto'])\n",
    "\n",
    "sinasc_raw.groupby(faixa_idh)[[\"IDADEMAE\",\"PESO\"]].mean()"
   ]
  },
  {
   "cell_type": "code",
   "execution_count": 181,
   "metadata": {},
   "outputs": [
    {
     "data": {
      "text/plain": [
       "Index(['ORIGEM', 'CODESTAB', 'CODMUNNASC', 'LOCNASC', 'IDADEMAE', 'ESTCIVMAE',\n",
       "       'ESCMAE', 'CODOCUPMAE', 'QTDFILVIVO', 'QTDFILMORT', 'CODMUNRES',\n",
       "       'GESTACAO', 'GRAVIDEZ', 'PARTO', 'CONSULTAS', 'DTNASC', 'HORANASC',\n",
       "       'SEXO', 'APGAR1', 'APGAR5', 'RACACOR', 'PESO', 'IDANOMAL', 'DTCADASTRO',\n",
       "       'CODANOMAL', 'NUMEROLOTE', 'VERSAOSIST', 'DTRECEBIM', 'DIFDATA',\n",
       "       'DTRECORIGA', 'NATURALMAE', 'CODMUNNATU', 'CODUFNATU', 'ESCMAE2010',\n",
       "       'SERIESCMAE', 'DTNASCMAE', 'RACACORMAE', 'QTDGESTANT', 'QTDPARTNOR',\n",
       "       'QTDPARTCES', 'IDADEPAI', 'DTULTMENST', 'SEMAGESTAC', 'TPMETESTIM',\n",
       "       'CONSPRENAT', 'MESPRENAT', 'TPAPRESENT', 'STTRABPART', 'STCESPARTO',\n",
       "       'TPNASCASSI', 'TPFUNCRESP', 'TPDOCRESP', 'DTDECLARAC', 'ESCMAEAGR1',\n",
       "       'STDNEPIDEM', 'STDNNOVA', 'CODPAISRES', 'TPROBSON', 'PARIDADE',\n",
       "       'KOTELCHUCK', 'CONTADOR', 'munResStatus', 'munResTipo', 'munResNome',\n",
       "       'munResUf', 'munResLat', 'munResLon', 'munResAlt', 'munResArea',\n",
       "       'IDHM'],\n",
       "      dtype='object')"
      ]
     },
     "execution_count": 181,
     "metadata": {},
     "output_type": "execute_result"
    }
   ],
   "source": [
    "sinasc_raw.columns"
   ]
  },
  {
   "cell_type": "markdown",
   "metadata": {
    "id": "zhtI6CxtlTuH"
   },
   "source": [
    "### 5.2 IFDM\n",
    "B - https://pt.wikipedia.org/wiki/Lista_de_munic%C3%ADpios_de_Rond%C3%B4nia_por_IFDM\n"
   ]
  },
  {
   "cell_type": "code",
   "execution_count": 182,
   "metadata": {
    "id": "1AVkd1M3lTuI"
   },
   "outputs": [],
   "source": [
    "ifdm_municipios = {\n",
    "    \"Ariquemes\": 0.7746,\n",
    "    \"Vilhena\": 0.7465,\n",
    "    \"Pimenta Bueno\": 0.7383,\n",
    "    \"Porto Velho\": 0.7257,\n",
    "    \"Ji-Paraná\": 0.7117,\n",
    "    \"Cacoal\": 0.7111,\n",
    "    \"Santa Luzia D'Oeste\": 0.6850,\n",
    "    \"Rolim de Moura\": 0.6785,\n",
    "    \"Chupinguaia\": 0.6766,\n",
    "    \"São Miguel do Guaporé\": 0.6699,\n",
    "    \"Pimenteiras do Oeste\": 0.6501,\n",
    "    \"Teixeirópolis\": 0.6500,\n",
    "    \"Colorado do Oeste\": 0.6473,\n",
    "    \"Jaru\": 0.6450,\n",
    "    \"Rio Crespo\": 0.6430,\n",
    "    \"Primavera de Rondônia\": 0.6384,\n",
    "    \"Alta Floresta D'Oeste\": 0.6337,\n",
    "    \"Ouro Preto do Oeste\": 0.6261,\n",
    "    \"São Francisco do Guaporé\": 0.6214,\n",
    "    \"Candeias do Jamari\": 0.6199,\n",
    "    \"São Felipe D'Oeste\": 0.6153,\n",
    "    \"Presidente Médici\": 0.6140,\n",
    "    \"Cerejeiras\": 0.6137,\n",
    "    \"Monte Negro\": 0.6016,\n",
    "    \"Urupá\": 0.6006,\n",
    "    \"Espigão D'Oeste\": 0.5973,\n",
    "    \"Seringueiras\": 0.5922,\n",
    "    \"Alvorada D'Oeste\": 0.5919,\n",
    "    \"Itapuã do Oeste\": 0.5903,\n",
    "    \"Cabixi\": 0.5887,\n",
    "    \"Novo Horizonte do Oeste\": 0.5858,\n",
    "    \"Nova Brasilândia D'Oeste\": 0.5857,\n",
    "    \"Vale do Paraíso\": 0.5818,\n",
    "    \"Corumbiara\": 0.5759,\n",
    "    \"Alto Paraíso\": 0.5735,\n",
    "    \"Cacaulândia\": 0.5721,\n",
    "    \"Vale do Anari\": 0.5710,\n",
    "    \"Ministro Andreazza\": 0.5657,\n",
    "    \"Costa Marques\": 0.5626,\n",
    "    \"Nova União\": 0.5571,\n",
    "    \"Guajará-Mirim\": 0.5541,\n",
    "    \"Mirante da Serra\": 0.5519,\n",
    "    \"Parecis\": 0.5502,\n",
    "    \"Castanheiras\": 0.5430,\n",
    "    \"Theobroma\": 0.5405,\n",
    "    \"Machadinho D'Oeste\": 0.5322,\n",
    "    \"Campo Novo de Rondônia\": 0.5272,\n",
    "    \"Nova Mamoré\": 0.5084,\n",
    "    \"Cujubim\": 0.5055,\n",
    "    \"Alto Alegre dos Parecis\": 0.5046,\n",
    "    \"Governador Jorge Teixeira\": 0.4562\n",
    "}\n"
   ]
  },
  {
   "cell_type": "code",
   "execution_count": 183,
   "metadata": {},
   "outputs": [],
   "source": [
    "sinasc_raw['IFDM'] = sinasc_raw['munResNome'].map(ifdm_municipios)\n"
   ]
  },
  {
   "cell_type": "code",
   "execution_count": 184,
   "metadata": {},
   "outputs": [],
   "source": [
    "sinasc_raw['faixa_IFDM'] = pd.cut(\n",
    "    sinasc_raw['IFDM'],\n",
    "    bins=[0, 0.4562, 0.5973, 1],\n",
    "    labels=[\"Desenvolvimento baixo\", \"Desenvolvimento médio\", \"Desenvolvimento alto\"]\n",
    ")\n"
   ]
  },
  {
   "cell_type": "code",
   "execution_count": 185,
   "metadata": {},
   "outputs": [
    {
     "name": "stderr",
     "output_type": "stream",
     "text": [
      "C:\\Users\\felip\\AppData\\Local\\Temp\\ipykernel_4464\\4027950971.py:1: FutureWarning: The default of observed=False is deprecated and will be changed to True in a future version of pandas. Pass observed=False to retain current behavior or observed=True to adopt the future default and silence this warning.\n",
      "  sinasc_raw.groupby('faixa_IFDM')[[\"IDADEMAE\",'IDADEPAI']].mean()\n"
     ]
    },
    {
     "data": {
      "text/html": [
       "<div>\n",
       "<style scoped>\n",
       "    .dataframe tbody tr th:only-of-type {\n",
       "        vertical-align: middle;\n",
       "    }\n",
       "\n",
       "    .dataframe tbody tr th {\n",
       "        vertical-align: top;\n",
       "    }\n",
       "\n",
       "    .dataframe thead th {\n",
       "        text-align: right;\n",
       "    }\n",
       "</style>\n",
       "<table border=\"1\" class=\"dataframe\">\n",
       "  <thead>\n",
       "    <tr style=\"text-align: right;\">\n",
       "      <th></th>\n",
       "      <th>IDADEMAE</th>\n",
       "      <th>IDADEPAI</th>\n",
       "    </tr>\n",
       "    <tr>\n",
       "      <th>faixa_IFDM</th>\n",
       "      <th></th>\n",
       "      <th></th>\n",
       "    </tr>\n",
       "  </thead>\n",
       "  <tbody>\n",
       "    <tr>\n",
       "      <th>Desenvolvimento baixo</th>\n",
       "      <td>24.401786</td>\n",
       "      <td>29.222222</td>\n",
       "    </tr>\n",
       "    <tr>\n",
       "      <th>Desenvolvimento médio</th>\n",
       "      <td>25.560676</td>\n",
       "      <td>31.250729</td>\n",
       "    </tr>\n",
       "    <tr>\n",
       "      <th>Desenvolvimento alto</th>\n",
       "      <td>26.241258</td>\n",
       "      <td>31.064275</td>\n",
       "    </tr>\n",
       "  </tbody>\n",
       "</table>\n",
       "</div>"
      ],
      "text/plain": [
       "                        IDADEMAE   IDADEPAI\n",
       "faixa_IFDM                                 \n",
       "Desenvolvimento baixo  24.401786  29.222222\n",
       "Desenvolvimento médio  25.560676  31.250729\n",
       "Desenvolvimento alto   26.241258  31.064275"
      ]
     },
     "execution_count": 185,
     "metadata": {},
     "output_type": "execute_result"
    }
   ],
   "source": [
    "sinasc_raw.groupby('faixa_IFDM')[[\"IDADEMAE\",'IDADEPAI']].mean()"
   ]
  },
  {
   "cell_type": "markdown",
   "metadata": {
    "id": "BwdS46EWlTuI"
   },
   "source": [
    "### 5.3 PIB\n",
    "C - https://pt.wikipedia.org/wiki/Lista_de_munic%C3%ADpios_de_Rond%C3%B4nia_por_PIB\n"
   ]
  },
  {
   "cell_type": "code",
   "execution_count": 186,
   "metadata": {},
   "outputs": [],
   "source": [
    "pib_municipios = {\n",
    "    \"Porto Velho\": 20059522,\n",
    "    \"Ji-Paraná\": 4231113,\n",
    "    \"Vilhena\": 4215046,\n",
    "    \"Ariquemes\": 3209761,\n",
    "    \"Cacoal\": 2792383,\n",
    "    \"Jaru\": 1765089,\n",
    "    \"Pimenta Bueno\": 1642516,\n",
    "    \"Rolim de Moura\": 1565194,\n",
    "    \"Guajará-Mirim\": 1054179,\n",
    "    \"Ouro Preto do Oeste\": 985868,\n",
    "    \"Buritis\": 966552,\n",
    "    \"São Miguel do Guaporé\": 905335,\n",
    "    \"Machadinho D'Oeste\": 890320,\n",
    "    \"Espigão D'Oeste\": 773381,\n",
    "    \"Cerejeiras\": 743037,\n",
    "    \"Nova Mamoré\": 742687,\n",
    "    \"Alta Floresta D'Oeste\": 734469,\n",
    "    \"Candeias do Jamari\": 655606,\n",
    "    \"Presidente Médici\": 559990,\n",
    "    \"Nova Brasilândia D'Oeste\": 548734,\n",
    "    \"Alto Paraíso\": 510361,\n",
    "    \"São Francisco do Guaporé\": 488043,\n",
    "    \"Cujubim\": 487480,\n",
    "    \"Alto Alegre dos Parecis\": 483672,\n",
    "    \"Chupinguaia\": 468793,\n",
    "    \"Colorado do Oeste\": 424807,\n",
    "    \"Corumbiara\": 396728,\n",
    "    \"Monte Negro\": 389891,\n",
    "    \"Campo Novo de Rondônia\": 369377,\n",
    "    \"Alvorada D'Oeste\": 352628,\n",
    "    \"Seringueiras\": 332987,\n",
    "    \"Costa Marques\": 316671,\n",
    "    \"Ministro Andreazza\": 297878,\n",
    "    \"Cacaulândia\": 275338,\n",
    "    \"Urupá\": 273501,\n",
    "    \"Mirante da Serra\": 262640,\n",
    "    \"Theobroma\": 257426,\n",
    "    \"Pimenteiras do Oeste\": 246209,\n",
    "    \"Governador Jorge Teixeira\": 239330,\n",
    "    \"Cabixi\": 238412,\n",
    "    \"Novo Horizonte do Oeste\": 231502,\n",
    "    \"Vale do Anari\": 220588,\n",
    "    \"Santa Luzia D'Oeste\": 213556,\n",
    "    \"Itapuã do Oeste\": 210031,\n",
    "    \"Vale do Paraíso\": 185648,\n",
    "    \"Rio Crespo\": 184430,\n",
    "    \"Nova União\": 157321,\n",
    "    \"Parecis\": 155434,\n",
    "    \"São Felipe D'Oeste\": 130676,\n",
    "    \"Teixeirópolis\": 121301,\n",
    "    \"Primavera de Rondônia\": 107030,\n",
    "    \"Castanheiras\": 99627\n",
    "}\n",
    "sinasc_raw[\"PIB\"] = sinasc_raw[\"munResNome\"].map(pib_municipios)"
   ]
  },
  {
   "cell_type": "code",
   "execution_count": 187,
   "metadata": {},
   "outputs": [
    {
     "name": "stderr",
     "output_type": "stream",
     "text": [
      "C:\\Users\\felip\\AppData\\Local\\Temp\\ipykernel_4464\\3359806139.py:1: FutureWarning: The default of observed=False is deprecated and will be changed to True in a future version of pandas. Pass observed=False to retain current behavior or observed=True to adopt the future default and silence this warning.\n",
      "  sinasc_raw.groupby(\n"
     ]
    },
    {
     "data": {
      "text/html": [
       "<div>\n",
       "<style scoped>\n",
       "    .dataframe tbody tr th:only-of-type {\n",
       "        vertical-align: middle;\n",
       "    }\n",
       "\n",
       "    .dataframe tbody tr th {\n",
       "        vertical-align: top;\n",
       "    }\n",
       "\n",
       "    .dataframe thead tr th {\n",
       "        text-align: left;\n",
       "    }\n",
       "\n",
       "    .dataframe thead tr:last-of-type th {\n",
       "        text-align: right;\n",
       "    }\n",
       "</style>\n",
       "<table border=\"1\" class=\"dataframe\">\n",
       "  <thead>\n",
       "    <tr>\n",
       "      <th></th>\n",
       "      <th colspan=\"3\" halign=\"left\">IDADEMAE</th>\n",
       "      <th colspan=\"3\" halign=\"left\">QTDGESTANT</th>\n",
       "    </tr>\n",
       "    <tr>\n",
       "      <th></th>\n",
       "      <th>mean</th>\n",
       "      <th>median</th>\n",
       "      <th>std</th>\n",
       "      <th>mean</th>\n",
       "      <th>median</th>\n",
       "      <th>std</th>\n",
       "    </tr>\n",
       "    <tr>\n",
       "      <th>PIB</th>\n",
       "      <th></th>\n",
       "      <th></th>\n",
       "      <th></th>\n",
       "      <th></th>\n",
       "      <th></th>\n",
       "      <th></th>\n",
       "    </tr>\n",
       "  </thead>\n",
       "  <tbody>\n",
       "    <tr>\n",
       "      <th>Abaixo da média</th>\n",
       "      <td>25.992241</td>\n",
       "      <td>25.0</td>\n",
       "      <td>6.311484</td>\n",
       "      <td>1.207000</td>\n",
       "      <td>1.0</td>\n",
       "      <td>1.382024</td>\n",
       "    </tr>\n",
       "    <tr>\n",
       "      <th>Acima da média</th>\n",
       "      <td>26.312670</td>\n",
       "      <td>26.0</td>\n",
       "      <td>6.549074</td>\n",
       "      <td>1.443414</td>\n",
       "      <td>1.0</td>\n",
       "      <td>1.445156</td>\n",
       "    </tr>\n",
       "  </tbody>\n",
       "</table>\n",
       "</div>"
      ],
      "text/plain": [
       "                  IDADEMAE                  QTDGESTANT                 \n",
       "                      mean median       std       mean median       std\n",
       "PIB                                                                    \n",
       "Abaixo da média  25.992241   25.0  6.311484   1.207000    1.0  1.382024\n",
       "Acima da média   26.312670   26.0  6.549074   1.443414    1.0  1.445156"
      ]
     },
     "execution_count": 187,
     "metadata": {},
     "output_type": "execute_result"
    }
   ],
   "source": [
    "sinasc_raw.groupby(\n",
    "    pd.cut(\n",
    "        sinasc_raw[\"PIB\"],\n",
    "        bins=[sinasc_raw[\"PIB\"].min(), sinasc_raw[\"PIB\"].mean(), sinasc_raw[\"PIB\"].max()],\n",
    "        labels=[\"Abaixo da média\", \"Acima da média\"]\n",
    "    )\n",
    ")[[\"IDADEMAE\", \"QTDGESTANT\"]].agg([\"mean\", \"median\", \"std\"])"
   ]
  },
  {
   "cell_type": "markdown",
   "metadata": {
    "id": "bdWGW_xtlTuI"
   },
   "source": [
    "### Analise as respostas encontradas, tire algum insight delas, conte pra gente algo encontrado nos dados."
   ]
  },
  {
   "cell_type": "code",
   "execution_count": 188,
   "metadata": {},
   "outputs": [
    {
     "data": {
      "text/plain": [
       "Index(['ORIGEM', 'CODESTAB', 'CODMUNNASC', 'LOCNASC', 'IDADEMAE', 'ESTCIVMAE',\n",
       "       'ESCMAE', 'CODOCUPMAE', 'QTDFILVIVO', 'QTDFILMORT', 'CODMUNRES',\n",
       "       'GESTACAO', 'GRAVIDEZ', 'PARTO', 'CONSULTAS', 'DTNASC', 'HORANASC',\n",
       "       'SEXO', 'APGAR1', 'APGAR5', 'RACACOR', 'PESO', 'IDANOMAL', 'DTCADASTRO',\n",
       "       'CODANOMAL', 'NUMEROLOTE', 'VERSAOSIST', 'DTRECEBIM', 'DIFDATA',\n",
       "       'DTRECORIGA', 'NATURALMAE', 'CODMUNNATU', 'CODUFNATU', 'ESCMAE2010',\n",
       "       'SERIESCMAE', 'DTNASCMAE', 'RACACORMAE', 'QTDGESTANT', 'QTDPARTNOR',\n",
       "       'QTDPARTCES', 'IDADEPAI', 'DTULTMENST', 'SEMAGESTAC', 'TPMETESTIM',\n",
       "       'CONSPRENAT', 'MESPRENAT', 'TPAPRESENT', 'STTRABPART', 'STCESPARTO',\n",
       "       'TPNASCASSI', 'TPFUNCRESP', 'TPDOCRESP', 'DTDECLARAC', 'ESCMAEAGR1',\n",
       "       'STDNEPIDEM', 'STDNNOVA', 'CODPAISRES', 'TPROBSON', 'PARIDADE',\n",
       "       'KOTELCHUCK', 'CONTADOR', 'munResStatus', 'munResTipo', 'munResNome',\n",
       "       'munResUf', 'munResLat', 'munResLon', 'munResAlt', 'munResArea', 'IDHM',\n",
       "       'IFDM', 'faixa_IFDM', 'PIB'],\n",
       "      dtype='object')"
      ]
     },
     "execution_count": 188,
     "metadata": {},
     "output_type": "execute_result"
    }
   ],
   "source": [
    "sinasc_raw.columns"
   ]
  },
  {
   "cell_type": "markdown",
   "metadata": {
    "id": "shZvokfBlTuI"
   },
   "source": [
    "Exemplo:\n",
    "- Ah, descobri que a idade mediana das mulheres que deram a luz no ano de 2019 dos municipios com o PIB mais alto é a maior dentre todas."
   ]
  },
  {
   "cell_type": "markdown",
   "metadata": {},
   "source": [
    "- Em cidades com latitude inferior a -10.5, em média, os pais são 2 anos mais novos, e também tem uma média de filhos ligeiramente menor. \n",
    "\n",
    "- Quando olhamos o IDHM, quanto maior, maior a idade média das mães\n",
    "    O peso médio dos bebês é levemente maior em áreas com IDHM médio e alto.\n",
    "\n",
    "- Pais e mães têm filhos mais cedo em municípios com IFDM mais baixo.\n",
    "    Nos municípios com IFDM alto, as mães têm filhos com média de 26 anos, enquanto nos de IFDM baixo a média é 24 anos, e a idade média dos pais também acompanha a tendência, já que quanto maior o IFDM, maior a idade média.\n",
    "\n",
    "- Maes em municípios com maior PIB tendem a ter filhos um pouco mais tarde.\n",
    "    A quantidade de gestações por mãe é ligeiramente maior em municípios com PIB acima da média.\n"
   ]
  }
 ],
 "metadata": {
  "colab": {
   "provenance": []
  },
  "kernelspec": {
   "display_name": "Python 3 (ipykernel)",
   "language": "python",
   "name": "python3"
  },
  "language_info": {
   "codemirror_mode": {
    "name": "ipython",
    "version": 3
   },
   "file_extension": ".py",
   "mimetype": "text/x-python",
   "name": "python",
   "nbconvert_exporter": "python",
   "pygments_lexer": "ipython3",
   "version": "3.11.7"
  },
  "varInspector": {
   "cols": {
    "lenName": 16,
    "lenType": 16,
    "lenVar": 40
   },
   "kernels_config": {
    "python": {
     "delete_cmd_postfix": "",
     "delete_cmd_prefix": "del ",
     "library": "var_list.py",
     "varRefreshCmd": "print(var_dic_list())"
    },
    "r": {
     "delete_cmd_postfix": ") ",
     "delete_cmd_prefix": "rm(",
     "library": "var_list.r",
     "varRefreshCmd": "cat(var_dic_list()) "
    }
   },
   "types_to_exclude": [
    "module",
    "function",
    "builtin_function_or_method",
    "instance",
    "_Feature"
   ],
   "window_display": false
  }
 },
 "nbformat": 4,
 "nbformat_minor": 4
}
